{
  "nbformat": 4,
  "nbformat_minor": 0,
  "metadata": {
    "colab": {
      "name": "Fashion Minst.ipynb",
      "provenance": [],
      "collapsed_sections": []
    },
    "kernelspec": {
      "name": "python3",
      "display_name": "Python 3"
    },
    "language_info": {
      "name": "python"
    }
  },
  "cells": [
    {
      "cell_type": "markdown",
      "metadata": {
        "id": "IsmXgYd5i4Xq"
      },
      "source": [
        "This is a CNN implementation for the Fashion MNIST dataset"
      ]
    },
    {
      "cell_type": "code",
      "metadata": {
        "colab": {
          "base_uri": "https://localhost:8080/"
        },
        "id": "_Kgh--il4CtP",
        "outputId": "3e985957-8df0-45a3-e537-826a1a0e33b6"
      },
      "source": [
        "import numpy as np\n",
        "import pandas as pd\n",
        "\n",
        "# Load training images and labels\n",
        "train_images = np.load(\"train_images.npy\")\n",
        "train_labels = pd.read_csv('train_labels.csv', sep=',')\n",
        "train_labels = train_labels.drop(columns=['ID'])\n",
        "train_labels = np.array(train_labels.values.tolist())\n",
        "\n",
        "print(train_images.shape)\n",
        "print(train_labels.shape)\n"
      ],
      "execution_count": 1,
      "outputs": [
        {
          "output_type": "stream",
          "name": "stdout",
          "text": [
            "(50000, 28, 28)\n",
            "(50000, 1)\n"
          ]
        }
      ]
    },
    {
      "cell_type": "code",
      "metadata": {
        "colab": {
          "base_uri": "https://localhost:8080/",
          "height": 282
        },
        "id": "MgALDMjm4Ggs",
        "outputId": "65b19b7c-a54e-4cc7-f6bb-3c05cac8f104"
      },
      "source": [
        "import matplotlib.pyplot as plt\n",
        "\n",
        "# Function to show image\n",
        "def show_image(arr):\n",
        "    two_d = (np.reshape(arr, (28, 28)) * 255).astype(np.uint8)\n",
        "    plt.imshow(two_d, interpolation='nearest')\n",
        "    plt.show()\n",
        "\n",
        "show_image(train_images[0]) # 0 is the index of the training image you want to display\n",
        "print(train_labels[0])"
      ],
      "execution_count": 2,
      "outputs": [
        {
          "output_type": "display_data",
          "data": {
            "image/png": "[encoded data removed]",
            "text/plain": [
              "<Figure size 432x288 with 1 Axes>"
            ]
          },
          "metadata": {
            "needs_background": "light"
          }
        },
        {
          "output_type": "stream",
          "name": "stdout",
          "text": [
            "[6]\n"
          ]
        }
      ]
    },
    {
      "cell_type": "code",
      "metadata": {
        "colab": {
          "base_uri": "https://localhost:8080/"
        },
        "id": "AwP4F2G47fhs",
        "outputId": "2656bab3-fcfc-43fc-a21e-532a2a4b61a6"
      },
      "source": [
        "# Preprocessing\n",
        "train_images = train_images/255\n",
        "train_images = np.expand_dims(train_images, -1)\n",
        "print(train_images.shape)"
      ],
      "execution_count": 3,
      "outputs": [
        {
          "output_type": "stream",
          "name": "stdout",
          "text": [
            "(50000, 28, 28, 1)\n"
          ]
        }
      ]
    },
    {
      "cell_type": "code",
      "metadata": {
        "colab": {
          "base_uri": "https://localhost:8080/"
        },
        "id": "zEqtDazoSbdo",
        "outputId": "9f9a6705-5b98-43d6-ebda-bd882740e262"
      },
      "source": [
        "# Making the train and test data\n",
        "from sklearn.model_selection import train_test_split \n",
        "X_train, X_test, y_train, y_test = train_test_split(train_images, train_labels, test_size= 0.2, random_state=2020)\n",
        "print(X_train.shape)\n",
        "print(X_test.shape)\n",
        "print(y_train.shape)\n",
        "print(y_test.shape)"
      ],
      "execution_count": 4,
      "outputs": [
        {
          "output_type": "stream",
          "name": "stdout",
          "text": [
            "(40000, 28, 28, 1)\n",
            "(10000, 28, 28, 1)\n",
            "(40000, 1)\n",
            "(10000, 1)\n"
          ]
        }
      ]
    },
    {
      "cell_type": "code",
      "metadata": {
        "id": "mDrN2SrqIOKv"
      },
      "source": [
        "from keras.models import Sequential\n",
        "from keras.layers import Conv2D\n",
        "from keras.layers import MaxPooling2D\n",
        "from keras.layers import Dense\n",
        "from keras.layers import Flatten\n",
        "from keras.layers import Dropout\n",
        "\n",
        "# Make CNN model\n",
        "model = Sequential()\n",
        "model.add(Conv2D(32, (3, 3), activation='relu', data_format='channels_last', input_shape=(28, 28, 1)))\n",
        "model.add(MaxPooling2D((2, 2)))\n",
        "model.add(Flatten())\n",
        "model.add(Dense(100, activation='relu'))\n",
        "model.add(Dropout(0.5))\n",
        "model.add(Dense(10, activation='softmax'))\n",
        "\n",
        "# Compile model\n",
        "model.compile(optimizer='adam', loss='sparse_categorical_crossentropy', metrics=['accuracy'])\n"
      ],
      "execution_count": 6,
      "outputs": []
    },
    {
      "cell_type": "code",
      "metadata": {
        "colab": {
          "base_uri": "https://localhost:8080/"
        },
        "id": "I4NGD4TSV2iE",
        "outputId": "9cce18de-3dd4-43a9-edfa-efbd5ff33814"
      },
      "source": [
        "# Fit model\n",
        "model.fit(X_train, y_train, epochs = 20, validation_data=(X_test, y_test))"
      ],
      "execution_count": 7,
      "outputs": [
        {
          "output_type": "stream",
          "name": "stdout",
          "text": [
            "Epoch 1/20\n",
            "1250/1250 [==============================] - 28s 22ms/step - loss: 1.2198 - accuracy: 0.5243 - val_loss: 0.6635 - val_accuracy: 0.7445\n",
            "Epoch 2/20\n",
            "1250/1250 [==============================] - 27s 22ms/step - loss: 0.8510 - accuracy: 0.6754 - val_loss: 0.6096 - val_accuracy: 0.7731\n",
            "Epoch 3/20\n",
            "1250/1250 [==============================] - 27s 22ms/step - loss: 0.7697 - accuracy: 0.7087 - val_loss: 0.5441 - val_accuracy: 0.7884\n",
            "Epoch 4/20\n",
            "1250/1250 [==============================] - 27s 22ms/step - loss: 0.7210 - accuracy: 0.7288 - val_loss: 0.5236 - val_accuracy: 0.8008\n",
            "Epoch 5/20\n",
            "1250/1250 [==============================] - 27s 22ms/step - loss: 0.6967 - accuracy: 0.7347 - val_loss: 0.5038 - val_accuracy: 0.8123\n",
            "Epoch 6/20\n",
            "1250/1250 [==============================] - 27s 22ms/step - loss: 0.6624 - accuracy: 0.7473 - val_loss: 0.4958 - val_accuracy: 0.8121\n",
            "Epoch 7/20\n",
            "1250/1250 [==============================] - 27s 22ms/step - loss: 0.6311 - accuracy: 0.7605 - val_loss: 0.4915 - val_accuracy: 0.8182\n",
            "Epoch 8/20\n",
            "1250/1250 [==============================] - 27s 22ms/step - loss: 0.6145 - accuracy: 0.7653 - val_loss: 0.4786 - val_accuracy: 0.8190\n",
            "Epoch 9/20\n",
            "1250/1250 [==============================] - 27s 21ms/step - loss: 0.5865 - accuracy: 0.7801 - val_loss: 0.4645 - val_accuracy: 0.8252\n",
            "Epoch 10/20\n",
            "1250/1250 [==============================] - 27s 21ms/step - loss: 0.5693 - accuracy: 0.7857 - val_loss: 0.4614 - val_accuracy: 0.8254\n",
            "Epoch 11/20\n",
            "1250/1250 [==============================] - 27s 21ms/step - loss: 0.5576 - accuracy: 0.7881 - val_loss: 0.4544 - val_accuracy: 0.8308\n",
            "Epoch 12/20\n",
            "1250/1250 [==============================] - 27s 21ms/step - loss: 0.5448 - accuracy: 0.7954 - val_loss: 0.4447 - val_accuracy: 0.8356\n",
            "Epoch 13/20\n",
            "1250/1250 [==============================] - 27s 21ms/step - loss: 0.5346 - accuracy: 0.7972 - val_loss: 0.4427 - val_accuracy: 0.8354\n",
            "Epoch 14/20\n",
            "1250/1250 [==============================] - 27s 21ms/step - loss: 0.5146 - accuracy: 0.8033 - val_loss: 0.4443 - val_accuracy: 0.8352\n",
            "Epoch 15/20\n",
            "1250/1250 [==============================] - 27s 21ms/step - loss: 0.5082 - accuracy: 0.8071 - val_loss: 0.4476 - val_accuracy: 0.8351\n",
            "Epoch 16/20\n",
            "1250/1250 [==============================] - 27s 21ms/step - loss: 0.5010 - accuracy: 0.8101 - val_loss: 0.4461 - val_accuracy: 0.8363\n",
            "Epoch 17/20\n",
            "1250/1250 [==============================] - 27s 21ms/step - loss: 0.4889 - accuracy: 0.8133 - val_loss: 0.4440 - val_accuracy: 0.8359\n",
            "Epoch 18/20\n",
            "1250/1250 [==============================] - 27s 21ms/step - loss: 0.4825 - accuracy: 0.8165 - val_loss: 0.4320 - val_accuracy: 0.8396\n",
            "Epoch 19/20\n",
            "1250/1250 [==============================] - 26s 21ms/step - loss: 0.4685 - accuracy: 0.8197 - val_loss: 0.4403 - val_accuracy: 0.8388\n",
            "Epoch 20/20\n",
            "1250/1250 [==============================] - 27s 21ms/step - loss: 0.4642 - accuracy: 0.8214 - val_loss: 0.4348 - val_accuracy: 0.8375\n"
          ]
        },
        {
          "output_type": "execute_result",
          "data": {
            "text/plain": [
              "<keras.callbacks.History at 0x7f6e77d7c550>"
            ]
          },
          "metadata": {},
          "execution_count": 7
        }
      ]
    },
    {
      "cell_type": "code",
      "metadata": {
        "id": "oQvr9MOR4XNK"
      },
      "source": [
        "x_test = np.load('test_images.npy')\n",
        "x_test = x_test.reshape(len(x_test),28,28,1)\n",
        "y_test = model.predict(x_test)\n",
        "\n",
        "df_test = pd.read_csv('sample_submission.csv')\n",
        "df_test['label'] = y_test\n",
        "df_test.to_csv('submission.csv', index=False)"
      ],
      "execution_count": 8,
      "outputs": []
    }
  ]
}